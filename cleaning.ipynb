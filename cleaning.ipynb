{
 "cells": [
  {
   "cell_type": "code",
   "execution_count": 2,
   "metadata": {},
   "outputs": [],
   "source": [
    "import pandas as pd\n",
    "pd.set_option('display.max_columns', None)\n",
    "pd.set_option('display.max_colwidth', None)"
   ]
  },
  {
   "cell_type": "code",
   "execution_count": 3,
   "metadata": {},
   "outputs": [],
   "source": [
    "df_original = pd.read_json(\"./database.json\")\n",
    "df = df_original.T"
   ]
  },
  {
   "cell_type": "code",
   "execution_count": 4,
   "metadata": {},
   "outputs": [],
   "source": [
    "df = df_original.T"
   ]
  },
  {
   "cell_type": "code",
   "execution_count": 5,
   "metadata": {},
   "outputs": [
    {
     "data": {
      "text/plain": [
       "Index(['type', 'name', 'steam_appid', 'required_age', 'is_free',\n",
       "       'detailed_description', 'about_the_game', 'short_description',\n",
       "       'supported_languages', 'header_image', 'website', 'pc_requirements',\n",
       "       'mac_requirements', 'linux_requirements', 'legal_notice', 'developers',\n",
       "       'publishers', 'price_overview', 'packages', 'package_groups',\n",
       "       'platforms', 'categories', 'genres', 'screenshots', 'movies',\n",
       "       'release_date', 'support_info', 'background', 'content_descriptors',\n",
       "       'num_reviews', 'review_score', 'review_score_desc', 'total_positive',\n",
       "       'total_negative', 'total_reviews', 'controller_support', 'dlc', 'demos',\n",
       "       'recommendations', 'achievements', 'reviews', 'ext_user_account_notice',\n",
       "       'metacritic', 'drm_notice'],\n",
       "      dtype='object')"
      ]
     },
     "execution_count": 5,
     "metadata": {},
     "output_type": "execute_result"
    }
   ],
   "source": [
    "df.columns"
   ]
  },
  {
   "cell_type": "code",
   "execution_count": 7,
   "metadata": {},
   "outputs": [],
   "source": [
    "#look for specific parameters\n",
    "df['windows'] = df['platforms'].apply(lambda x: x.get('windows'))\n",
    "df['mac'] = df['platforms'].apply(lambda x: x.get('mac'))\n",
    "df['linux'] = df['platforms'].apply(lambda x: x.get('linux'))\n",
    "#TODO:make a funct to automatize the creation of column"
   ]
  },
  {
   "cell_type": "code",
   "execution_count": 8,
   "metadata": {},
   "outputs": [
    {
     "name": "stdout",
     "output_type": "stream",
     "text": [
      "4625\n"
     ]
    }
   ],
   "source": [
    "print(df['windows'].sum())"
   ]
  },
  {
   "cell_type": "code",
   "execution_count": 14,
   "metadata": {},
   "outputs": [
    {
     "name": "stderr",
     "output_type": "stream",
     "text": [
      "<ipython-input-14-65aba4ff9631>:2: FutureWarning: The default value of regex will change from True to False in a future version.\n",
      "  df['detailed_description'] =  df['detailed_description'].str.replace(r\"<[^>]*>\",\"\")\n"
     ]
    }
   ],
   "source": [
    "#remove html tags\n",
    "df['detailed_description'] =  df['detailed_description'].str.replace(r\"<[^>]*>\",\"\")\n",
    "#TODO: got a better visual and remove all other \"tags\" "
   ]
  },
  {
   "cell_type": "code",
   "execution_count": 12,
   "metadata": {},
   "outputs": [],
   "source": [
    "#to get several description\n",
    "def get_all_desc(x,col_name):\n",
    "    try:\n",
    "        var_list = []\n",
    "        for i in x:\n",
    "            desc = i.get(col_name)\n",
    "            var_list.append(desc)\n",
    "        return var_list\n",
    "    except (TypeError):\n",
    "        pass\n"
   ]
  },
  {
   "cell_type": "code",
   "execution_count": 13,
   "metadata": {},
   "outputs": [],
   "source": [
    "df['genre'] = df['genres'].apply(get_all_desc, col_name=('description'))"
   ]
  },
  {
   "cell_type": "code",
   "execution_count": 20,
   "metadata": {},
   "outputs": [
    {
     "data": {
      "text/plain": [
       "1198490                           [Adventure]\n",
       "1198510                       [Action, Indie]\n",
       "1198550          [Action, Casual, Indie, RPG]\n",
       "1198600                       [Action, Indie]\n",
       "1198630                              [Casual]\n",
       "                          ...                \n",
       "1113770               [Action, Casual, Indie]\n",
       "1113780                   [Adventure, Casual]\n",
       "1113000                                 [RPG]\n",
       "1113060             [Casual, Indie, Strategy]\n",
       "1113110    [Action, Adventure, Casual, Indie]\n",
       "Name: genre, Length: 4625, dtype: object"
      ]
     },
     "execution_count": 20,
     "metadata": {},
     "output_type": "execute_result"
    }
   ],
   "source": [
    "df['genre']"
   ]
  },
  {
   "cell_type": "code",
   "execution_count": 46,
   "metadata": {},
   "outputs": [],
   "source": [
    "#change list to str\n",
    "def list_str(x):\n",
    "    try:\n",
    "        return ', '.join([str(item) for item in x])\n",
    "    except (TypeError):\n",
    "        pass\n"
   ]
  },
  {
   "cell_type": "code",
   "execution_count": 47,
   "metadata": {},
   "outputs": [
    {
     "data": {
      "text/plain": [
       "1198490            Glitch Games\n",
       "1198510             Cliax Games\n",
       "1198550       All Saints Gaming\n",
       "1198600    Electric Prune Juice\n",
       "1198630                    Miel\n",
       "                   ...         \n",
       "1113770         Seashell Studio\n",
       "1113780          Cordelia Games\n",
       "1113000                   ATLUS\n",
       "1113060             Meridian'93\n",
       "1113110         Giovanni Altrui\n",
       "Name: developers, Length: 4625, dtype: object"
      ]
     },
     "execution_count": 47,
     "metadata": {},
     "output_type": "execute_result"
    }
   ],
   "source": [
    "df['developers'].apply(list_str)"
   ]
  },
  {
   "cell_type": "markdown",
   "metadata": {},
   "source": [
    "import matplotlib.pyplot as plt\n",
    "x=[df['windows'].sum(),df['linux'].sum(),df['mac'].sum()]\n",
    "plt.pie(x,labels=['win','lin','mac'])\n",
    "plt.legend()"
   ]
  },
  {
   "cell_type": "code",
   "execution_count": null,
   "metadata": {},
   "outputs": [],
   "source": [
    "import"
   ]
  }
 ],
 "metadata": {
  "interpreter": {
   "hash": "f09aeb9f6a64e263f9fc0dc01c8ebcca4b9cb817cdbd1539761e738e9e976fa7"
  },
  "kernelspec": {
   "display_name": "Python 3",
   "language": "python",
   "name": "python3"
  },
  "language_info": {
   "codemirror_mode": {
    "name": "ipython",
    "version": 3
   },
   "file_extension": ".py",
   "mimetype": "text/x-python",
   "name": "python",
   "nbconvert_exporter": "python",
   "pygments_lexer": "ipython3",
   "version": "3.8.8"
  }
 },
 "nbformat": 4,
 "nbformat_minor": 2
}
