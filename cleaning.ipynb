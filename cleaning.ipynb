{
 "cells": [
  {
   "cell_type": "code",
   "execution_count": 2,
   "source": [
    "import pandas as pd\r\n",
    "pd.set_option('display.max_columns', None)\r\n",
    "pd.set_option('display.max_colwidth', None)"
   ],
   "outputs": [],
   "metadata": {}
  },
  {
   "cell_type": "code",
   "execution_count": 3,
   "source": [
    "df_original = pd.read_json(\"./database.json\")\r\n",
    "df = df_original.T"
   ],
   "outputs": [],
   "metadata": {}
  },
  {
   "cell_type": "code",
   "execution_count": 4,
   "source": [
    "df = df_original.T"
   ],
   "outputs": [],
   "metadata": {}
  },
  {
   "cell_type": "code",
   "execution_count": 5,
   "source": [
    "df.columns"
   ],
   "outputs": [
    {
     "output_type": "execute_result",
     "data": {
      "text/plain": [
       "Index(['type', 'name', 'steam_appid', 'required_age', 'is_free',\n",
       "       'detailed_description', 'about_the_game', 'short_description',\n",
       "       'supported_languages', 'header_image', 'website', 'pc_requirements',\n",
       "       'mac_requirements', 'linux_requirements', 'legal_notice', 'developers',\n",
       "       'publishers', 'price_overview', 'packages', 'package_groups',\n",
       "       'platforms', 'categories', 'genres', 'screenshots', 'movies',\n",
       "       'release_date', 'support_info', 'background', 'content_descriptors',\n",
       "       'num_reviews', 'review_score', 'review_score_desc', 'total_positive',\n",
       "       'total_negative', 'total_reviews', 'controller_support', 'dlc', 'demos',\n",
       "       'recommendations', 'achievements', 'reviews', 'ext_user_account_notice',\n",
       "       'metacritic', 'drm_notice'],\n",
       "      dtype='object')"
      ]
     },
     "metadata": {},
     "execution_count": 5
    }
   ],
   "metadata": {}
  },
  {
   "cell_type": "code",
   "execution_count": 7,
   "source": [
    "#look for specific parameters\r\n",
    "df['windows'] = df['platforms'].apply(lambda x: x.get('windows'))\r\n",
    "df['mac'] = df['platforms'].apply(lambda x: x.get('mac'))\r\n",
    "df['linux'] = df['platforms'].apply(lambda x: x.get('linux'))\r\n",
    "#TODO:make a funct to automatize the creation of column"
   ],
   "outputs": [],
   "metadata": {}
  },
  {
   "cell_type": "code",
   "execution_count": 8,
   "source": [
    "print(df['windows'].sum())"
   ],
   "outputs": [
    {
     "output_type": "stream",
     "name": "stdout",
     "text": [
      "4625\n"
     ]
    }
   ],
   "metadata": {}
  },
  {
   "cell_type": "code",
   "execution_count": 14,
   "source": [
    "#remove html tags\r\n",
    "df['detailed_description'] =  df['detailed_description'].str.replace(r\"<[^>]*>\",\"\")\r\n",
    "#TODO: got a better visual and remove all other \"tags\" "
   ],
   "outputs": [
    {
     "output_type": "stream",
     "name": "stderr",
     "text": [
      "<ipython-input-14-65aba4ff9631>:2: FutureWarning: The default value of regex will change from True to False in a future version.\n",
      "  df['detailed_description'] =  df['detailed_description'].str.replace(r\"<[^>]*>\",\"\")\n"
     ]
    }
   ],
   "metadata": {}
  },
  {
   "cell_type": "code",
   "execution_count": 12,
   "source": [
    "#to get several description\r\n",
    "def get_all_desc(x,col_name):\r\n",
    "    try:\r\n",
    "        var_list = []\r\n",
    "        for i in x:\r\n",
    "            desc = i.get(col_name)\r\n",
    "            var_list.append(desc)\r\n",
    "        return var_list\r\n",
    "    except (TypeError):\r\n",
    "        pass\r\n"
   ],
   "outputs": [],
   "metadata": {}
  },
  {
   "cell_type": "code",
   "execution_count": 13,
   "source": [
    "df['genre'] = df['genres'].apply(get_all_desc, col_name=('description'))"
   ],
   "outputs": [],
   "metadata": {}
  },
  {
   "cell_type": "code",
   "execution_count": 20,
   "source": [
    "df['genre']"
   ],
   "outputs": [
    {
     "output_type": "execute_result",
     "data": {
      "text/plain": [
       "1198490                           [Adventure]\n",
       "1198510                       [Action, Indie]\n",
       "1198550          [Action, Casual, Indie, RPG]\n",
       "1198600                       [Action, Indie]\n",
       "1198630                              [Casual]\n",
       "                          ...                \n",
       "1113770               [Action, Casual, Indie]\n",
       "1113780                   [Adventure, Casual]\n",
       "1113000                                 [RPG]\n",
       "1113060             [Casual, Indie, Strategy]\n",
       "1113110    [Action, Adventure, Casual, Indie]\n",
       "Name: genre, Length: 4625, dtype: object"
      ]
     },
     "metadata": {},
     "execution_count": 20
    }
   ],
   "metadata": {}
  },
  {
   "cell_type": "code",
   "execution_count": 46,
   "source": [
    "#change list to str\r\n",
    "def list_str(x):\r\n",
    "    try:\r\n",
    "        return ', '.join([str(item) for item in x])\r\n",
    "    except (TypeError):\r\n",
    "        pass\r\n"
   ],
   "outputs": [],
   "metadata": {}
  },
  {
   "cell_type": "code",
   "execution_count": 47,
   "source": [
    "df['developers'].apply(list_str)"
   ],
   "outputs": [
    {
     "output_type": "execute_result",
     "data": {
      "text/plain": [
       "1198490            Glitch Games\n",
       "1198510             Cliax Games\n",
       "1198550       All Saints Gaming\n",
       "1198600    Electric Prune Juice\n",
       "1198630                    Miel\n",
       "                   ...         \n",
       "1113770         Seashell Studio\n",
       "1113780          Cordelia Games\n",
       "1113000                   ATLUS\n",
       "1113060             Meridian'93\n",
       "1113110         Giovanni Altrui\n",
       "Name: developers, Length: 4625, dtype: object"
      ]
     },
     "metadata": {},
     "execution_count": 47
    }
   ],
   "metadata": {}
  },
  {
   "cell_type": "markdown",
   "source": [
    "import matplotlib.pyplot as plt\r\n",
    "x=[df['windows'].sum(),df['linux'].sum(),df['mac'].sum()]\r\n",
    "plt.pie(x,labels=['win','lin','mac'])\r\n",
    "plt.legend()"
   ],
   "metadata": {}
  },
  {
   "cell_type": "code",
   "execution_count": null,
   "source": [
    "import"
   ],
   "outputs": [],
   "metadata": {}
  }
 ],
 "metadata": {
  "orig_nbformat": 4,
  "language_info": {
   "name": "python",
   "version": "3.9.1",
   "mimetype": "text/x-python",
   "codemirror_mode": {
    "name": "ipython",
    "version": 3
   },
   "pygments_lexer": "ipython3",
   "nbconvert_exporter": "python",
   "file_extension": ".py"
  },
  "kernelspec": {
   "name": "python3",
   "display_name": "Python 3.9.1 64-bit ('base': conda)"
  },
  "interpreter": {
   "hash": "f09aeb9f6a64e263f9fc0dc01c8ebcca4b9cb817cdbd1539761e738e9e976fa7"
  }
 },
 "nbformat": 4,
 "nbformat_minor": 2
}