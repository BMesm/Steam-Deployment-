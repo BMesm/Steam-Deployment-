{
 "cells": [
  {
   "cell_type": "code",
   "execution_count": 1,
   "source": [
    "import requests\r\n",
    "from bs4 import BeautifulSoup\r\n",
    "import csv\r\n",
    "import pandas as pd\r\n",
    "import time\r\n",
    "import re\r\n",
    "\r\n",
    "\r\n",
    "def get_data(url):\r\n",
    "    r = requests.get(url)\r\n",
    "    return BeautifulSoup(r.content, 'html.parser')\r\n",
    "\r\n",
    "\r\n",
    "def output(results):\r\n",
    "    with open(\"games_url.csv\",\"a\",newline='') as f:\r\n",
    "        write = csv.writer(f,dialect='excel',delimiter=';')\r\n",
    "        write.writerows([url] for url in results)\r\n",
    "    print('Fin. Saved to CSV')"
   ],
   "outputs": [],
   "metadata": {}
  },
  {
   "cell_type": "code",
   "execution_count": 2,
   "source": [
    "def parse(data):\r\n",
    "    gamedata = {}\r\n",
    "    gamedata['genre_dev_date'] = get_genre_dev_date(data)\r\n",
    "    gamedata['languages'] = get_languages(data)\r\n",
    "    return gamedata\r\n",
    "\r\n",
    "def get_genre_dev_date(data):\r\n",
    "    find = data.find('div',{'id': 'genresAndManufacturer'})\r\n",
    "    key = ''\r\n",
    "    l = ''\r\n",
    "    genre_dev_date = {}\r\n",
    "    for i in find.findAll(['a','b']):    \r\n",
    "        text = i.text\r\n",
    "        if text == 'Title:':\r\n",
    "            continue\r\n",
    "        elif ':' in text:\r\n",
    "                genre_dev_date[key]=l\r\n",
    "                key = text[:-1]\r\n",
    "                l = []\r\n",
    "        else:\r\n",
    "            l.append(text)\r\n",
    "    del genre_dev_date['']\r\n",
    "    return genre_dev_date"
   ],
   "outputs": [],
   "metadata": {}
  },
  {
   "cell_type": "code",
   "execution_count": 3,
   "source": [
    "def get_languages(data):\r\n",
    "    find = data.find('div',{'id': 'languageTable'})\r\n",
    "    key = ''\r\n",
    "    l = []\r\n",
    "    languages = {'language':['Interface','Full_Audio','Subtitles']}\r\n",
    "    for i in find.findAll('td'):\r\n",
    "        text = i.text\r\n",
    "        if len(text)>3:\r\n",
    "            text = re.sub(\"[\\\\r]|[\\\\n]|[\\\\t]\",\"\",text)\r\n",
    "            languages[key] = l\r\n",
    "            key = text\r\n",
    "            l = []\r\n",
    "        elif \"✔\" in text:\r\n",
    "            l.append(True)\r\n",
    "        else:\r\n",
    "            l.append(False)\r\n",
    "    del languages['']\r\n",
    "    return languages"
   ],
   "outputs": [],
   "metadata": {}
  },
  {
   "cell_type": "code",
   "execution_count": 15,
   "source": [
    "link = \"https://store.steampowered.com/app/1085660/Destiny_2/\"\r\n",
    "data = get_data(link)"
   ],
   "outputs": [],
   "metadata": {}
  },
  {
   "cell_type": "code",
   "execution_count": 21,
   "source": [
    "find = data.find('div',{'class':'apphub_AppName'})\r\n",
    "print(find.text)"
   ],
   "outputs": [
    {
     "output_type": "stream",
     "name": "stdout",
     "text": [
      "Destiny 2\n"
     ]
    }
   ],
   "metadata": {}
  },
  {
   "cell_type": "code",
   "execution_count": 113,
   "source": [
    "link = [\"https://store.steampowered.com/app/1085660/Destiny_2/\"]\r\n",
    "for x in link:\r\n",
    "    data = get_data(x)\r\n",
    "    print(parse(data))\r\n",
    "    print('Results Scraped: ', x)\r\n",
    "    time.sleep(0)\r\n",
    "#output(results)"
   ],
   "outputs": [
    {
     "output_type": "stream",
     "name": "stdout",
     "text": [
      "{'genre_dev_date': {'Genre': ['Action', 'Adventure', 'Free to Play'], 'Developer': ['Bungie'], 'Publisher': ['Bungie '], 'Franchise': ['Destiny']}, 'languages': {'language': ['Interface', 'Full_Audio', 'Subtitles'], 'English': [True, True, True], 'French': [True, True, True], 'Italian': [True, True, True], 'German': [True, True, True], 'Spanish - Spain': [True, True, True], 'Japanese': [True, True, True], 'Korean': [True, True, True], 'Polish': [True, True, True], 'Portuguese - Brazil': [True, True, True], 'Russian': [True, True, True], 'Simplified Chinese': [True, False, True], 'Spanish - Latin America': [True, True, True]}}\n",
      "Results Scraped:  https://store.steampowered.com/app/1085660/Destiny_2/\n"
     ]
    }
   ],
   "metadata": {}
  }
 ],
 "metadata": {
  "orig_nbformat": 4,
  "language_info": {
   "name": "python",
   "version": "3.9.2",
   "mimetype": "text/x-python",
   "codemirror_mode": {
    "name": "ipython",
    "version": 3
   },
   "pygments_lexer": "ipython3",
   "nbconvert_exporter": "python",
   "file_extension": ".py"
  },
  "kernelspec": {
   "name": "python3",
   "display_name": "Python 3.9.2 64-bit"
  },
  "interpreter": {
   "hash": "8ffd7a4c42191d59290039569e757589144775bad5fcd260e64ce4fd5ea8b81c"
  }
 },
 "nbformat": 4,
 "nbformat_minor": 2
}